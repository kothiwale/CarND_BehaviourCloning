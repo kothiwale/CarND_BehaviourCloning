{
 "cells": [
  {
   "cell_type": "code",
   "execution_count": 1,
   "metadata": {
    "collapsed": false
   },
   "outputs": [
    {
     "name": "stderr",
     "output_type": "stream",
     "text": [
      "Using TensorFlow backend.\n"
     ]
    },
    {
     "name": "stdout",
     "output_type": "stream",
     "text": [
      "Hello\n"
     ]
    }
   ],
   "source": [
    "import pandas as pd\n",
    "import numpy as np\n",
    "#from sklearn.model_selection import train_test_split\n",
    "from sklearn.utils import shuffle\n",
    "from keras.layers.core import Flatten\n",
    "from keras.preprocessing.image import flip_axis\n",
    "from keras.layers import Input, Lambda, Convolution2D, Dense, Dropout,Cropping2D\n",
    "from keras.models import Model, model_from_json,Sequential\n",
    "from scipy import misc\n",
    "import random\n",
    "import json\n",
    "import csv\n",
    "import os\n",
    "import matplotlib.pyplot as plt\n",
    "#import cv2\n",
    "import time\n",
    "%matplotlib inline\n",
    "\n",
    "ImgDir=r'C:\\Users\\User\\Desktop\\CarND_BehaviorCloning\\windows_sim\\TrainingData\\IMG\\\\'\n",
    "LogFile=r'C:\\Users\\User\\Desktop\\CarND_BehaviorCloning\\windows_sim/TrainingData/driving_log.csv'\n",
    "\n",
    "UdacityDir=r'C:\\Users\\User\\Desktop\\CarND_BehaviorCloning\\windows_sim\\data\\\\'\n",
    "UdacityLogFile=r'C:\\Users\\User\\Desktop\\CarND_BehaviorCloning\\windows_sim\\data\\driving_log.csv'\n",
    "\n",
    "print (\"Hello\")"
   ]
  },
  {
   "cell_type": "code",
   "execution_count": 2,
   "metadata": {
    "collapsed": false
   },
   "outputs": [
    {
     "data": {
      "text/plain": [
       "'def convertImage(image):\\n    \\n    cutImage=image#[60:140,:]\\n    \\n    line_image=np.copy(cutImage)\\n    \\n    hsv=cv2.cvtColor(line_image,cv2.COLOR_RGB2HSV)\\n    lower_yellow = np.array([23,41,133])\\n    upper_yellow = np.array([40,150,255])\\n\\n    lower_red = np.array([150,0,0])\\n    upper_red = np.array([180,200,255])\\n    \\n    lower_black = np.array([0,0,0])\\n    upper_black = np.array([120,120,50])\\n    \\n    sensitivity=40\\n    lower_white = np.array([0,0,255-sensitivity], dtype=np.uint8)\\n    upper_white = np.array([255,sensitivity,255], dtype=np.uint8)\\n    \\n    mask_yellow = cv2.inRange(hsv, lower_yellow, upper_yellow)\\n    mask_red = cv2.inRange(hsv,lower_red,upper_red)\\n    mask_black = cv2.inRange(hsv, lower_black, upper_black)\\n    mask_white = cv2.inRange(hsv, lower_white, upper_white)\\n    \\n    masked_black = cv2.addWeighted(cutImage, 0.5,cv2.cvtColor(mask_black, cv2.COLOR_GRAY2RGB), 1, 0)\\n    masked_red= cv2.addWeighted(masked_black, 0.5,cv2.cvtColor(mask_red, cv2.COLOR_GRAY2RGB), 1, 0)\\n    masked_yellow= cv2.addWeighted(masked_red, 0.5,cv2.cvtColor(mask_yellow, cv2.COLOR_GRAY2RGB), 1, 0)\\n    masked_white= cv2.addWeighted(masked_yellow, 0.5,cv2.cvtColor(mask_white, cv2.COLOR_GRAY2RGB), 1, 0)\\n    \\n    mask= masked_white\\n    \\n    return mask'"
      ]
     },
     "execution_count": 2,
     "metadata": {},
     "output_type": "execute_result"
    }
   ],
   "source": [
    "def convertImage(image):\n",
    "    \n",
    "    cutImage=image#[60:140,:]\n",
    "    \n",
    "    line_image=np.copy(cutImage)\n",
    "    \n",
    "    hsv=cv2.cvtColor(line_image,cv2.COLOR_RGB2HSV)\n",
    "    lower_yellow = np.array([23,41,133])\n",
    "    upper_yellow = np.array([40,150,255])\n",
    "\n",
    "    lower_red = np.array([150,0,0])\n",
    "    upper_red = np.array([180,200,255])\n",
    "    \n",
    "    lower_black = np.array([0,0,0])\n",
    "    upper_black = np.array([120,120,50])\n",
    "    \n",
    "    sensitivity=40\n",
    "    lower_white = np.array([0,0,255-sensitivity], dtype=np.uint8)\n",
    "    upper_white = np.array([255,sensitivity,255], dtype=np.uint8)\n",
    "    \n",
    "    mask_yellow = cv2.inRange(hsv, lower_yellow, upper_yellow)\n",
    "    mask_red = cv2.inRange(hsv,lower_red,upper_red)\n",
    "    mask_black = cv2.inRange(hsv, lower_black, upper_black)\n",
    "    mask_white = cv2.inRange(hsv, lower_white, upper_white)\n",
    "    \n",
    "    masked_black = cv2.addWeighted(cutImage, 0.5,cv2.cvtColor(mask_black, cv2.COLOR_GRAY2RGB), 1, 0)\n",
    "    masked_red= cv2.addWeighted(masked_black, 0.5,cv2.cvtColor(mask_red, cv2.COLOR_GRAY2RGB), 1, 0)\n",
    "    masked_yellow= cv2.addWeighted(masked_red, 0.5,cv2.cvtColor(mask_yellow, cv2.COLOR_GRAY2RGB), 1, 0)\n",
    "    masked_white= cv2.addWeighted(masked_yellow, 0.5,cv2.cvtColor(mask_white, cv2.COLOR_GRAY2RGB), 1, 0)\n",
    "    \n",
    "    mask= masked_white\n",
    "    \n",
    "    return mask"
   ]
  },
  {
   "cell_type": "code",
   "execution_count": 9,
   "metadata": {
    "collapsed": false
   },
   "outputs": [
    {
     "name": "stdout",
     "output_type": "stream",
     "text": [
      "Processing Time: 189.32282876968384\n",
      "14423 14423\n"
     ]
    }
   ],
   "source": [
    "starttime=time.time()\n",
    "\n",
    "lines=[]\n",
    "measurements=[]\n",
    "images=[]\n",
    "\n",
    "\n",
    "with open(LogFile) as csvfile:\n",
    "    reader=csv.reader(csvfile)\n",
    "    for line in reader:\n",
    "        lines.append(line)\n",
    "\n",
    "\n",
    "for line in lines:\n",
    "    for i in range (3):\n",
    "        source_path=line[i]\n",
    "        if i==0:\n",
    "            correction=0\n",
    "        if i==1:\n",
    "            correction=0.2\n",
    "        if i==2:\n",
    "            correction=-0.2\n",
    "        filename=source_path.split('\\\\')[-1]\n",
    "        ##Dir=source_path.split('\\\\')[:-1]\n",
    "        current_path=ImgDir+filename\n",
    "        image=plt.imread(current_path)\n",
    "        #image=convertImage(image)\n",
    "        images.append(image)\n",
    "        measurement=float(line[3])+correction\n",
    "        measurements.append(measurement)\n",
    "        if (measurement<-0.4 or measurement>0.4):\n",
    "            flipImg=np.fliplr(image)\n",
    "            images.append(flipImg)\n",
    "            measurements.append(-measurement)\n",
    "\n",
    "\n",
    "print ('Processing Time:', time.time()-starttime)\n",
    "print (len(images),len(measurements))"
   ]
  },
  {
   "cell_type": "code",
   "execution_count": 10,
   "metadata": {
    "collapsed": false
   },
   "outputs": [
    {
     "ename": "MemoryError",
     "evalue": "",
     "output_type": "error",
     "traceback": [
      "\u001b[0;31m---------------------------------------------------------------------------\u001b[0m",
      "\u001b[0;31mMemoryError\u001b[0m                               Traceback (most recent call last)",
      "\u001b[0;32m<ipython-input-10-eb0b7d21508a>\u001b[0m in \u001b[0;36m<module>\u001b[0;34m()\u001b[0m\n\u001b[0;32m----> 1\u001b[0;31m \u001b[0mX_train\u001b[0m\u001b[1;33m=\u001b[0m\u001b[0mnp\u001b[0m\u001b[1;33m.\u001b[0m\u001b[0marray\u001b[0m\u001b[1;33m(\u001b[0m\u001b[0mimages\u001b[0m\u001b[1;33m)\u001b[0m\u001b[1;33m\u001b[0m\u001b[0m\n\u001b[0m\u001b[1;32m      2\u001b[0m \u001b[0my_train\u001b[0m\u001b[1;33m=\u001b[0m\u001b[0mnp\u001b[0m\u001b[1;33m.\u001b[0m\u001b[0marray\u001b[0m\u001b[1;33m(\u001b[0m\u001b[0mmeasurements\u001b[0m\u001b[1;33m)\u001b[0m\u001b[1;33m\u001b[0m\u001b[0m\n",
      "\u001b[0;31mMemoryError\u001b[0m: "
     ]
    }
   ],
   "source": [
    "X_train=np.array(images)\n",
    "y_train=np.array(measurements)"
   ]
  },
  {
   "cell_type": "code",
   "execution_count": null,
   "metadata": {
    "collapsed": false
   },
   "outputs": [],
   "source": [
    "#processingUdacityImages\n",
    "lines2=[]\n",
    "with open(UdacityLogFile) as csvfile:\n",
    "    reader=csv.reader(csvfile)\n",
    "    for line in reader:\n",
    "        lines2.append(line)\n",
    "\n",
    "for line in lines2[1:]:\n",
    "    source_path=line[0]\n",
    "    filename=source_path\n",
    "    current_path=UdacityDir+filename\n",
    "    image=plt.imread(current_path)\n",
    "    #image=convertImage(image)\n",
    "    images.append(image)\n",
    "    measurement=float(line[3])\n",
    "    measurements.append(measurement)\n",
    "    flipImg=np.fliplr(image)\n",
    "    images.append(flipImg)\n",
    "    measurements.append(-measurement)\n",
    "    \n",
    "X_train=np.array(images)\n",
    "y_train=np.array(measurements)\n",
    "\n",
    "print (X_train.shape,y_train.shape)"
   ]
  },
  {
   "cell_type": "code",
   "execution_count": 11,
   "metadata": {
    "collapsed": false
   },
   "outputs": [
    {
     "name": "stderr",
     "output_type": "stream",
     "text": [
      "C:\\Program Files\\Anaconda3\\lib\\site-packages\\ipykernel\\__main__.py:5: UserWarning: Update your `Conv2D` call to the Keras 2 API: `Conv2D(24, (5, 5), strides=(2, 2), activation=\"relu\")`\n",
      "C:\\Program Files\\Anaconda3\\lib\\site-packages\\ipykernel\\__main__.py:7: UserWarning: Update your `Conv2D` call to the Keras 2 API: `Conv2D(36, (5, 5), strides=(2, 2), activation=\"relu\")`\n",
      "C:\\Program Files\\Anaconda3\\lib\\site-packages\\ipykernel\\__main__.py:8: UserWarning: Update your `Conv2D` call to the Keras 2 API: `Conv2D(48, (5, 5), strides=(2, 2), activation=\"relu\")`\n",
      "C:\\Program Files\\Anaconda3\\lib\\site-packages\\ipykernel\\__main__.py:9: UserWarning: Update your `Conv2D` call to the Keras 2 API: `Conv2D(64, (3, 3), activation=\"relu\")`\n",
      "C:\\Program Files\\Anaconda3\\lib\\site-packages\\ipykernel\\__main__.py:11: UserWarning: Update your `Conv2D` call to the Keras 2 API: `Conv2D(64, (3, 3), activation=\"relu\")`\n"
     ]
    }
   ],
   "source": [
    "model=Sequential()\n",
    "model.add(Lambda(lambda x: x/255.-0.5,input_shape=(160,320,3)))\n",
    "model.add(Cropping2D(cropping=((70,25),(0,0))))\n",
    "model.add(Convolution2D(24,5,5,subsample=(2,2),activation='relu'))\n",
    "model.add(Dropout(0.5))\n",
    "model.add(Convolution2D(36,5,5,subsample=(2,2),activation='relu'))\n",
    "model.add(Convolution2D(48,5,5,subsample=(2,2),activation='relu'))\n",
    "model.add(Convolution2D(64,3,3,activation='relu'))\n",
    "model.add(Dropout(0.5))\n",
    "model.add(Convolution2D(64,3,3,activation='relu'))\n",
    "model.add(Flatten())\n",
    "model.add(Dense(100))\n",
    "model.add(Dense(50))\n",
    "model.add(Dense(10))\n",
    "model.add(Dense(1))\n"
   ]
  },
  {
   "cell_type": "code",
   "execution_count": 12,
   "metadata": {
    "collapsed": false
   },
   "outputs": [
    {
     "name": "stdout",
     "output_type": "stream",
     "text": [
      "Train on 10096 samples, validate on 4327 samples\n",
      "Epoch 1/10\n",
      "10096/10096 [==============================] - 693s - loss: 0.0972 - val_loss: 0.1751\n",
      "Epoch 2/10\n",
      "10096/10096 [==============================] - 700s - loss: 0.0793 - val_loss: 0.1764\n",
      "Epoch 3/10\n",
      "10096/10096 [==============================] - 725s - loss: 0.0721 - val_loss: 0.1832\n",
      "Epoch 4/10\n",
      "10096/10096 [==============================] - 489s - loss: 0.0662 - val_loss: 0.1872\n",
      "Epoch 5/10\n",
      "10096/10096 [==============================] - 290s - loss: 0.0598 - val_loss: 0.1862\n",
      "Epoch 6/10\n",
      "10096/10096 [==============================] - 345s - loss: 0.0552 - val_loss: 0.1769\n",
      "Epoch 7/10\n",
      "10096/10096 [==============================] - 342s - loss: 0.0512 - val_loss: 0.1816\n",
      "Epoch 8/10\n",
      "10096/10096 [==============================] - 68361s - loss: 0.0471 - val_loss: 0.1780\n",
      "Epoch 9/10\n",
      "10096/10096 [==============================] - 1501s - loss: 0.0448 - val_loss: 0.1865\n",
      "Epoch 10/10\n",
      "10096/10096 [==============================] - 686s - loss: 0.0427 - val_loss: 0.1860\n"
     ]
    }
   ],
   "source": [
    "model.compile(loss='mse',optimizer='adam')\n",
    "model.fit(X_train,y_train,validation_split=0.3,shuffle=True,batch_size=128)\n",
    "model.save('model.h5')"
   ]
  },
  {
   "cell_type": "code",
   "execution_count": null,
   "metadata": {
    "collapsed": true
   },
   "outputs": [],
   "source": []
  },
  {
   "cell_type": "code",
   "execution_count": null,
   "metadata": {
    "collapsed": true
   },
   "outputs": [],
   "source": []
  },
  {
   "cell_type": "code",
   "execution_count": null,
   "metadata": {
    "collapsed": true
   },
   "outputs": [],
   "source": []
  },
  {
   "cell_type": "code",
   "execution_count": null,
   "metadata": {
    "collapsed": true
   },
   "outputs": [],
   "source": []
  }
 ],
 "metadata": {
  "anaconda-cloud": {},
  "kernelspec": {
   "display_name": "Python [conda root]",
   "language": "python",
   "name": "conda-root-py"
  },
  "language_info": {
   "codemirror_mode": {
    "name": "ipython",
    "version": 3
   },
   "file_extension": ".py",
   "mimetype": "text/x-python",
   "name": "python",
   "nbconvert_exporter": "python",
   "pygments_lexer": "ipython3",
   "version": "3.5.2"
  }
 },
 "nbformat": 4,
 "nbformat_minor": 1
}
